{
 "cells": [
  {
   "cell_type": "code",
   "execution_count": 1,
   "metadata": {},
   "outputs": [],
   "source": [
    "import time\n",
    "import datetime"
   ]
  },
  {
   "attachments": {},
   "cell_type": "markdown",
   "metadata": {},
   "source": [
    "### 내장함수로 UTC, KST 시간객체 얻기"
   ]
  },
  {
   "cell_type": "code",
   "execution_count": 2,
   "metadata": {},
   "outputs": [
    {
     "name": "stdout",
     "output_type": "stream",
     "text": [
      "✅ UTC\n",
      "time.struct_time(tm_year=2023, tm_mon=4, tm_mday=16, tm_hour=5, tm_min=31, tm_sec=3, tm_wday=6, tm_yday=106, tm_isdst=0)\n",
      "time.struct_time(tm_year=2023, tm_mon=4, tm_mday=16, tm_hour=5, tm_min=31, tm_sec=3, tm_wday=6, tm_yday=106, tm_isdst=0)\n",
      "<class 'time.struct_time'>\n",
      "\n",
      "2023-04-16 05:31:03.290045\n",
      "<class 'datetime.datetime'>\n",
      "\n",
      "✅ KST\n",
      "time.struct_time(tm_year=2023, tm_mon=4, tm_mday=16, tm_hour=14, tm_min=31, tm_sec=3, tm_wday=6, tm_yday=106, tm_isdst=0)\n",
      "time.struct_time(tm_year=2023, tm_mon=4, tm_mday=16, tm_hour=14, tm_min=31, tm_sec=3, tm_wday=6, tm_yday=106, tm_isdst=-1)\n",
      "<class 'time.struct_time'>\n",
      "\n",
      "2023-04-16 14:31:03.290045\n",
      "2023-04-16 14:31:03.290046\n",
      "<class 'datetime.datetime'>\n",
      "\n"
     ]
    }
   ],
   "source": [
    "print(f\"\"\"✅ UTC\n",
    "{time.gmtime()}\n",
    "{datetime.datetime.utcnow().utctimetuple()}\n",
    "{type(time.gmtime())}\n",
    "\n",
    "{datetime.datetime.utcnow()}\n",
    "{type(datetime.datetime.utcnow())}\n",
    "\n",
    "✅ KST\n",
    "{time.localtime()}\n",
    "{datetime.datetime.now().timetuple()}\n",
    "{type(datetime.datetime.now().timetuple())}\n",
    "\n",
    "{datetime.datetime.now()}\n",
    "{datetime.datetime.today()}\n",
    "{type(datetime.datetime.today())}\n",
    "\"\"\")"
   ]
  },
  {
   "attachments": {},
   "cell_type": "markdown",
   "metadata": {},
   "source": [
    "### 내장함수로 ISO 8601 형식 얻기"
   ]
  },
  {
   "cell_type": "code",
   "execution_count": 8,
   "metadata": {},
   "outputs": [
    {
     "name": "stdout",
     "output_type": "stream",
     "text": [
      "✅ ISO UTC\n",
      "2023-04-16T05:40:37+00:00\n",
      "2023-04-16T05:40:37+00:00\n",
      "\n",
      "✅ ISO KST\n",
      "2023-04-16T14:40:37+09:00\n",
      "2023-04-16T14:40:37+09:00\n",
      "\n"
     ]
    }
   ],
   "source": [
    "print(f\"\"\"✅ ISO UTC\n",
    "{time.strftime('%Y-%m-%dT%H:%M:%S+00:00', time.gmtime())}\n",
    "{datetime.datetime.utcfromtimestamp(datetime.datetime.now().timestamp()).strftime('%Y-%m-%dT%H:%M:%S+00:00')}\n",
    "\n",
    "✅ ISO KST\n",
    "{time.strftime('%Y-%m-%dT%H:%M:%S+09:00')}\n",
    "{datetime.datetime.fromtimestamp(datetime.datetime.now().timestamp()).strftime('%Y-%m-%dT%H:%M:%S+09:00')}\n",
    "\"\"\")"
   ]
  },
  {
   "attachments": {},
   "cell_type": "markdown",
   "metadata": {},
   "source": [
    "### 내장함수로 Unix Time 얻기"
   ]
  },
  {
   "cell_type": "code",
   "execution_count": 15,
   "metadata": {},
   "outputs": [
    {
     "name": "stdout",
     "output_type": "stream",
     "text": [
      "✅ UTC Unix Time\n",
      "1681591537.0\n",
      "1681591537.282041\n",
      "1681591537.282041\n",
      "\n",
      "✅ KST Unix Time\n",
      "1681623937.282041\n",
      "1681623937.0\n",
      "1681623937.282041\n",
      "\n"
     ]
    }
   ],
   "source": [
    "print(f\"\"\"✅ UTC Unix Time\n",
    "{time.mktime(time.gmtime())}\n",
    "{datetime.datetime.utcnow().timestamp()}\n",
    "{datetime.datetime.timestamp(datetime.datetime.utcnow())}\n",
    "\n",
    "✅ KST Unix Time\n",
    "{time.time()}\n",
    "{time.mktime(time.localtime())}\n",
    "{datetime.datetime.now().timestamp()}\n",
    "\"\"\")"
   ]
  },
  {
   "attachments": {},
   "cell_type": "markdown",
   "metadata": {},
   "source": [
    "### 기타 유용한 메소드"
   ]
  },
  {
   "cell_type": "code",
   "execution_count": 5,
   "metadata": {},
   "outputs": [
    {
     "name": "stdout",
     "output_type": "stream",
     "text": [
      "Unix UTC : 1681660943.0, Unix KST : 1681693343.0\n",
      "✅ Unix KST   →   UTC datetime\n",
      "2023-04-17 01:02:23\n",
      "✅ Unix UTC   →   UTC datetime\n",
      "2023-04-17 01:02:23\n",
      "✅ Unix KST   →   KST datetime\n",
      "2023-04-17 10:02:23\n",
      "\n",
      "✅ String Date, Time   →   struct_time\n",
      "time.struct_time(tm_year=2023, tm_mon=4, tm_mday=16, tm_hour=15, tm_min=2, tm_sec=12, tm_wday=6, tm_yday=106, tm_isdst=-1)\n",
      "time.struct_time(tm_year=1919, tm_mon=3, tm_mday=1, tm_hour=0, tm_min=0, tm_sec=0, tm_wday=5, tm_yday=60, tm_isdst=-1)\n",
      "\n"
     ]
    }
   ],
   "source": [
    "unix_utc = time.mktime(time.gmtime())\n",
    "unix_kst = time.mktime(time.localtime())\n",
    "print(f\"\"\"Unix UTC : {unix_utc}, Unix KST : {unix_kst}\n",
    "✅ Unix KST   →   UTC datetime\n",
    "{datetime.datetime.utcfromtimestamp(unix_kst)}\n",
    "✅ Unix UTC   →   UTC datetime\n",
    "{datetime.datetime.fromtimestamp(unix_utc)}\n",
    "✅ Unix KST   →   KST datetime\n",
    "{datetime.datetime.fromtimestamp(unix_kst)}\n",
    "\n",
    "✅ String Date, Time   →   struct_time\n",
    "{time.strptime(\"16 Apr 2023 15:02:12\", \"%d %b %Y %H:%M:%S\")}\n",
    "{time.strptime(\"1919.03.01\", \"%Y.%m.%d\")}\n",
    "\"\"\")"
   ]
  },
  {
   "cell_type": "code",
   "execution_count": 64,
   "metadata": {},
   "outputs": [
    {
     "name": "stdout",
     "output_type": "stream",
     "text": [
      "소요시간 : 1.5117628574371338\n"
     ]
    }
   ],
   "source": [
    "time_check = time.time()\n",
    "time.sleep(1.5)\n",
    "time_check -= time.time()\n",
    "print(f\"소요시간 : {-time_check}\")"
   ]
  },
  {
   "cell_type": "code",
   "execution_count": null,
   "metadata": {},
   "outputs": [],
   "source": []
  },
  {
   "cell_type": "code",
   "execution_count": null,
   "metadata": {},
   "outputs": [],
   "source": [
    "print(f\"\"\"✅ Time Stamp\n",
    "{time.time()}\n",
    "{datetime.datetime.now().timestamp()}\n",
    "{datetime.datetime.now(datetime.timezone.utc)}\n",
    "\n",
    "✅ UTC Time\n",
    "{datetime.datetime.utcnow()}\n",
    "{datetime.datetime.utcnow().astimezone(datetime.timezone(datetime.timedelta(hours=9)))}\n",
    "{datetime.datetime.utcfromtimestamp(time.time())}\n",
    "\n",
    "✅ KST Time\n",
    "{datetime.datetime.now()}\n",
    "{datetime.datetime.now().date()}\n",
    "{datetime.datetime.now().time()}\n",
    "{time.localtime()}\n",
    "{datetime.datetime.utcfromtimestamp(int(time.time()) + 60*60*9)}\n",
    "{int(time.time()) + 60*60*9}\n",
    "{time.mktime(datetime.datetime.strptime(str(datetime.datetime.utcfromtimestamp(int(time.time())+60*60*9)), '%Y-%m-%d %H:%M:%S').timetuple())}\n",
    "{time.strftime('%Y-%m-%dT%H:%M:%S+09:00')}\n",
    "\"\"\")"
   ]
  },
  {
   "cell_type": "code",
   "execution_count": null,
   "metadata": {},
   "outputs": [],
   "source": []
  },
  {
   "cell_type": "code",
   "execution_count": null,
   "metadata": {},
   "outputs": [],
   "source": []
  },
  {
   "cell_type": "code",
   "execution_count": null,
   "metadata": {},
   "outputs": [],
   "source": []
  },
  {
   "cell_type": "code",
   "execution_count": null,
   "metadata": {},
   "outputs": [],
   "source": []
  }
 ],
 "metadata": {
  "kernelspec": {
   "display_name": "test_1",
   "language": "python",
   "name": "python3"
  },
  "language_info": {
   "codemirror_mode": {
    "name": "ipython",
    "version": 3
   },
   "file_extension": ".py",
   "mimetype": "text/x-python",
   "name": "python",
   "nbconvert_exporter": "python",
   "pygments_lexer": "ipython3",
   "version": "3.8.16"
  },
  "orig_nbformat": 4
 },
 "nbformat": 4,
 "nbformat_minor": 2
}
